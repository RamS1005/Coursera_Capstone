{
 "cells": [
  {
   "cell_type": "markdown",
   "metadata": {},
   "source": [
    "# Capstone Project - The Battle of Neighborhoods (Week 1)"
   ]
  },
  {
   "cell_type": "markdown",
   "metadata": {},
   "source": [
    "## Find the best location to open an Food Stall / Restaturant in London Area"
   ]
  },
  {
   "cell_type": "markdown",
   "metadata": {},
   "source": [
    "### 1. Introduction"
   ]
  },
  {
   "cell_type": "markdown",
   "metadata": {},
   "source": [
    "### 1.1 Background\n",
    "\n",
    "The aim of this artefact is to propose find the best possible location or a spot to begin a new restaurant business in the London city by exploring several top areas around the city.\n",
    "\n"
   ]
  },
  {
   "cell_type": "markdown",
   "metadata": {},
   "source": [
    "### 1.2 Problem\n",
    "\n",
    "Selecting the right location for a business is one of the first and very important decisions in running a business. Starting a new business in a metropolitan city such as London can be challenging. London has over 150 areas within a total of 30 plus boroughs with various places that attract tourists and people to visit. The zones and neighborhoods of London are different in terms of different factors that can directly affect the success chance of business. It is important to evaluate different neighborhoods based on the factors that are important for running a successful business such as the number of competitor restaurants, footprint, vicinity of a food center, recreation & office spaces and the potential demand in that neighborhood. Also, Budget plays a critical role in renting or buying a place to make decisions in rounding off a location decision for a small - medium scale businesses. Hence, we need the right data set from various relevant sources to predict the best venue."
   ]
  },
  {
   "cell_type": "markdown",
   "metadata": {},
   "source": [
    "### 1.3 Interest\n",
    "\n",
    "This project will be very useful for any startups or an individual who wants to start a Small to Medium scale business in one of the most expensive and busiest cities in the world."
   ]
  },
  {
   "cell_type": "code",
   "execution_count": null,
   "metadata": {},
   "outputs": [],
   "source": []
  }
 ],
 "metadata": {
  "kernelspec": {
   "display_name": "Python",
   "language": "python",
   "name": "conda-env-python-py"
  },
  "language_info": {
   "codemirror_mode": {
    "name": "ipython",
    "version": 3
   },
   "file_extension": ".py",
   "mimetype": "text/x-python",
   "name": "python",
   "nbconvert_exporter": "python",
   "pygments_lexer": "ipython3",
   "version": "3.6.10"
  }
 },
 "nbformat": 4,
 "nbformat_minor": 4
}
