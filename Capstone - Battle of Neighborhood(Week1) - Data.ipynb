{
 "cells": [
  {
   "cell_type": "markdown",
   "metadata": {},
   "source": [
    "# Capstone Project - The Battle of Neighborhoods (Week 1)\n",
    "\n",
    "\n",
    "## Find the best location to open an Food Stall / Restaurant in London Area"
   ]
  },
  {
   "cell_type": "markdown",
   "metadata": {},
   "source": [
    "### 2. Data"
   ]
  },
  {
   "cell_type": "markdown",
   "metadata": {},
   "source": [
    "### 2.1 Data source / Data requirement\n",
    "\n",
    "This project will rely mainly on public data from Wikipedia and Foursquare data."
   ]
  },
  {
   "cell_type": "markdown",
   "metadata": {},
   "source": [
    "### 2.1.1 Dataset 1 - Greater London area neighborhood\n",
    "\n",
    "Within the Greater London Area, there are areas that are within the London Area Postcode. The focus of this project will be the nieghbourhoods are that are within the London Post Code area.\n",
    "\n",
    "The London Area consists of 32 Boroughs and the \"City of London\". Our data will be from the link - Greater London Area <https://en.wikipedia.org/wiki/List_of_areas_of_London >\n",
    "\n",
    "\n",
    "### 2.1.2 Dataset 2 - Foursquare data for exploring venues\n",
    "\n",
    "The Foursquare API will be used to obtain the London Area venues especially using case by case analysis considering more than 1 neighborhood for the geographical location data . These will be used to explore the neighbourhoods of London acordingly.\n",
    "\n",
    "The venues within the neighbourhoods of South East London like the areas's restaurants and proximity to amenities would be correlated. Also, accessibility and ease of supplies would be considered as it relates to venues.\n",
    "\n",
    "To use the Foursquare API, we define the Foursquare Credentials and Version."
   ]
  },
  {
   "cell_type": "code",
   "execution_count": null,
   "metadata": {},
   "outputs": [],
   "source": []
  }
 ],
 "metadata": {
  "kernelspec": {
   "display_name": "Python",
   "language": "python",
   "name": "conda-env-python-py"
  },
  "language_info": {
   "codemirror_mode": {
    "name": "ipython",
    "version": 3
   },
   "file_extension": ".py",
   "mimetype": "text/x-python",
   "name": "python",
   "nbconvert_exporter": "python",
   "pygments_lexer": "ipython3",
   "version": "3.6.10"
  }
 },
 "nbformat": 4,
 "nbformat_minor": 4
}
